{
 "cells": [
  {
   "cell_type": "code",
   "execution_count": 1,
   "metadata": {},
   "outputs": [],
   "source": [
    "import pandas as pd"
   ]
  },
  {
   "cell_type": "code",
   "execution_count": 15,
   "metadata": {},
   "outputs": [],
   "source": [
    "emotion_df = pd.read_csv('emotions.csv', engine = 'python', error_bad_lines = False,warn_bad_lines = False, header = None)"
   ]
  },
  {
   "cell_type": "code",
   "execution_count": 27,
   "metadata": {},
   "outputs": [
    {
     "data": {
      "text/plain": [
       "0       129\n",
       "1       440\n",
       "2       134\n",
       "3       568\n",
       "4       148\n",
       "5       691\n",
       "6       163\n",
       "7       824\n",
       "8       200\n",
       "9       943\n",
       "10      265\n",
       "11     1050\n",
       "12      350\n",
       "13     1138\n",
       "14      455\n",
       "15     1203\n",
       "16      586\n",
       "17     1221\n",
       "18      718\n",
       "19     1209\n",
       "20      828\n",
       "21     1153\n",
       "22      920\n",
       "23     1067\n",
       "24      992\n",
       "25      964\n",
       "26     1037\n",
       "27      845\n",
       "28     1061\n",
       "29      713\n",
       "       ... \n",
       "106     723\n",
       "107     854\n",
       "108     803\n",
       "109     868\n",
       "110     727\n",
       "111     964\n",
       "112     641\n",
       "113    1010\n",
       "114     585\n",
       "115    1015\n",
       "116     530\n",
       "117    1007\n",
       "118     453\n",
       "119     963\n",
       "120     404\n",
       "121     873\n",
       "122     534\n",
       "123     877\n",
       "124     585\n",
       "125     883\n",
       "126     638\n",
       "127     879\n",
       "128     778\n",
       "129     875\n",
       "130     639\n",
       "131     954\n",
       "132     585\n",
       "133     961\n",
       "134     534\n",
       "135     952\n",
       "Name: 0, Length: 136, dtype: int64"
      ]
     },
     "execution_count": 27,
     "metadata": {},
     "output_type": "execute_result"
    }
   ],
   "source": [
    "emotion_df.loc[0][:-1].apply(lambda x: int(x))"
   ]
  },
  {
   "cell_type": "code",
   "execution_count": null,
   "metadata": {},
   "outputs": [],
   "source": []
  }
 ],
 "metadata": {
  "kernelspec": {
   "display_name": "Python 3",
   "language": "python",
   "name": "python3"
  },
  "language_info": {
   "codemirror_mode": {
    "name": "ipython",
    "version": 3
   },
   "file_extension": ".py",
   "mimetype": "text/x-python",
   "name": "python",
   "nbconvert_exporter": "python",
   "pygments_lexer": "ipython3",
   "version": "3.7.3"
  }
 },
 "nbformat": 4,
 "nbformat_minor": 2
}
